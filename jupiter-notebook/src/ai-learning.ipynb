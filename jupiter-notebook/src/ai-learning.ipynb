{
 "cells": [
  {
   "cell_type": "markdown",
   "id": "e699bf42-e8c8-4e43-b051-aeeef575d47d",
   "metadata": {},
   "source": [
    "># Supervised Learning\n",
    ">>## Regression\n",
    ">>> - Univariate linear regression\n",
    ">>> - Training Set\n",
    ">>> - input feature X -> function f hypthesis -> output target Y\n",
    ">>> - Number of trianing examples: m, so (Xi, Yi) for i in [1,m[\n",
    ">>## Classification\n",
    "># Unsupervised Learning\n",
    ">>## Clustering\n",
    ">>## Anomaly detection\n",
    ">>## Dimensionality reduction\n"
   ]
  }
 ],
 "metadata": {
  "kernelspec": {
   "display_name": "Python 3 (ipykernel)",
   "language": "python",
   "name": "python3"
  },
  "language_info": {
   "codemirror_mode": {
    "name": "ipython",
    "version": 3
   },
   "file_extension": ".py",
   "mimetype": "text/x-python",
   "name": "python",
   "nbconvert_exporter": "python",
   "pygments_lexer": "ipython3",
   "version": "3.11.6"
  }
 },
 "nbformat": 4,
 "nbformat_minor": 5
}
